{
 "cells": [
  {
   "cell_type": "markdown",
   "id": "50775292-406e-436a-9b8a-6d6c0c4cfc97",
   "metadata": {},
   "source": [
    "# **Business Problem**\n",
    "Can you predict the expenses based on other factors?"
   ]
  },
  {
   "cell_type": "markdown",
   "id": "d0e5ead7-c880-431d-8823-30390547504f",
   "metadata": {},
   "source": [
    "# **Loading the Data**"
   ]
  },
  {
   "cell_type": "code",
   "execution_count": 1,
   "id": "cb1bdbb9-fdab-4ae9-a543-d12527437b5c",
   "metadata": {},
   "outputs": [],
   "source": [
    "import pandas as pd\n",
    "import numpy as np\n",
    "import matplotlib.pyplot as plt\n",
    "import seaborn as sns\n",
    "import warnings \n",
    "warnings.filterwarnings('ignore')"
   ]
  },
  {
   "cell_type": "code",
   "execution_count": 2,
   "id": "d673a734-e5c7-4a38-87b7-b3867e18e3e1",
   "metadata": {},
   "outputs": [
    {
     "data": {
      "text/html": [
       "<div>\n",
       "<style scoped>\n",
       "    .dataframe tbody tr th:only-of-type {\n",
       "        vertical-align: middle;\n",
       "    }\n",
       "\n",
       "    .dataframe tbody tr th {\n",
       "        vertical-align: top;\n",
       "    }\n",
       "\n",
       "    .dataframe thead th {\n",
       "        text-align: right;\n",
       "    }\n",
       "</style>\n",
       "<table border=\"1\" class=\"dataframe\">\n",
       "  <thead>\n",
       "    <tr style=\"text-align: right;\">\n",
       "      <th></th>\n",
       "      <th>age</th>\n",
       "      <th>sex</th>\n",
       "      <th>bmi</th>\n",
       "      <th>children</th>\n",
       "      <th>smoker</th>\n",
       "      <th>region</th>\n",
       "      <th>expenses</th>\n",
       "    </tr>\n",
       "  </thead>\n",
       "  <tbody>\n",
       "    <tr>\n",
       "      <th>0</th>\n",
       "      <td>19</td>\n",
       "      <td>female</td>\n",
       "      <td>27.9</td>\n",
       "      <td>0</td>\n",
       "      <td>yes</td>\n",
       "      <td>southwest</td>\n",
       "      <td>16884.92</td>\n",
       "    </tr>\n",
       "    <tr>\n",
       "      <th>1</th>\n",
       "      <td>18</td>\n",
       "      <td>male</td>\n",
       "      <td>33.8</td>\n",
       "      <td>1</td>\n",
       "      <td>no</td>\n",
       "      <td>southeast</td>\n",
       "      <td>1725.55</td>\n",
       "    </tr>\n",
       "    <tr>\n",
       "      <th>2</th>\n",
       "      <td>28</td>\n",
       "      <td>male</td>\n",
       "      <td>33.0</td>\n",
       "      <td>3</td>\n",
       "      <td>no</td>\n",
       "      <td>southeast</td>\n",
       "      <td>4449.46</td>\n",
       "    </tr>\n",
       "    <tr>\n",
       "      <th>3</th>\n",
       "      <td>33</td>\n",
       "      <td>male</td>\n",
       "      <td>22.7</td>\n",
       "      <td>0</td>\n",
       "      <td>no</td>\n",
       "      <td>northwest</td>\n",
       "      <td>21984.47</td>\n",
       "    </tr>\n",
       "    <tr>\n",
       "      <th>4</th>\n",
       "      <td>32</td>\n",
       "      <td>male</td>\n",
       "      <td>28.9</td>\n",
       "      <td>0</td>\n",
       "      <td>no</td>\n",
       "      <td>northwest</td>\n",
       "      <td>3866.86</td>\n",
       "    </tr>\n",
       "    <tr>\n",
       "      <th>...</th>\n",
       "      <td>...</td>\n",
       "      <td>...</td>\n",
       "      <td>...</td>\n",
       "      <td>...</td>\n",
       "      <td>...</td>\n",
       "      <td>...</td>\n",
       "      <td>...</td>\n",
       "    </tr>\n",
       "    <tr>\n",
       "      <th>1333</th>\n",
       "      <td>50</td>\n",
       "      <td>male</td>\n",
       "      <td>31.0</td>\n",
       "      <td>3</td>\n",
       "      <td>no</td>\n",
       "      <td>northwest</td>\n",
       "      <td>10600.55</td>\n",
       "    </tr>\n",
       "    <tr>\n",
       "      <th>1334</th>\n",
       "      <td>18</td>\n",
       "      <td>female</td>\n",
       "      <td>31.9</td>\n",
       "      <td>0</td>\n",
       "      <td>no</td>\n",
       "      <td>northeast</td>\n",
       "      <td>2205.98</td>\n",
       "    </tr>\n",
       "    <tr>\n",
       "      <th>1335</th>\n",
       "      <td>18</td>\n",
       "      <td>female</td>\n",
       "      <td>36.9</td>\n",
       "      <td>0</td>\n",
       "      <td>no</td>\n",
       "      <td>southeast</td>\n",
       "      <td>1629.83</td>\n",
       "    </tr>\n",
       "    <tr>\n",
       "      <th>1336</th>\n",
       "      <td>21</td>\n",
       "      <td>female</td>\n",
       "      <td>25.8</td>\n",
       "      <td>0</td>\n",
       "      <td>no</td>\n",
       "      <td>southwest</td>\n",
       "      <td>2007.95</td>\n",
       "    </tr>\n",
       "    <tr>\n",
       "      <th>1337</th>\n",
       "      <td>61</td>\n",
       "      <td>female</td>\n",
       "      <td>29.1</td>\n",
       "      <td>0</td>\n",
       "      <td>yes</td>\n",
       "      <td>northwest</td>\n",
       "      <td>29141.36</td>\n",
       "    </tr>\n",
       "  </tbody>\n",
       "</table>\n",
       "<p>1338 rows × 7 columns</p>\n",
       "</div>"
      ],
      "text/plain": [
       "      age     sex   bmi  children smoker     region  expenses\n",
       "0      19  female  27.9         0    yes  southwest  16884.92\n",
       "1      18    male  33.8         1     no  southeast   1725.55\n",
       "2      28    male  33.0         3     no  southeast   4449.46\n",
       "3      33    male  22.7         0     no  northwest  21984.47\n",
       "4      32    male  28.9         0     no  northwest   3866.86\n",
       "...   ...     ...   ...       ...    ...        ...       ...\n",
       "1333   50    male  31.0         3     no  northwest  10600.55\n",
       "1334   18  female  31.9         0     no  northeast   2205.98\n",
       "1335   18  female  36.9         0     no  southeast   1629.83\n",
       "1336   21  female  25.8         0     no  southwest   2007.95\n",
       "1337   61  female  29.1         0    yes  northwest  29141.36\n",
       "\n",
       "[1338 rows x 7 columns]"
      ]
     },
     "execution_count": 2,
     "metadata": {},
     "output_type": "execute_result"
    }
   ],
   "source": [
    "df = pd.read_excel('insurance.xlsx')\n",
    "df"
   ]
  },
  {
   "cell_type": "markdown",
   "id": "7a3bb971-2888-48ad-a371-b62de325fdfd",
   "metadata": {},
   "source": [
    "# **Data Exploration**"
   ]
  },
  {
   "cell_type": "code",
   "execution_count": 3,
   "id": "d653f6a0-4a9b-4cea-afde-87e60cabd75f",
   "metadata": {},
   "outputs": [
    {
     "data": {
      "text/plain": [
       "(1338, 7)"
      ]
     },
     "execution_count": 3,
     "metadata": {},
     "output_type": "execute_result"
    }
   ],
   "source": [
    "df.shape"
   ]
  },
  {
   "cell_type": "code",
   "execution_count": 4,
   "id": "53e75e2f-a306-4404-b351-805b99dfd902",
   "metadata": {},
   "outputs": [
    {
     "data": {
      "text/plain": [
       "age           int64\n",
       "sex          object\n",
       "bmi         float64\n",
       "children      int64\n",
       "smoker       object\n",
       "region       object\n",
       "expenses    float64\n",
       "dtype: object"
      ]
     },
     "execution_count": 4,
     "metadata": {},
     "output_type": "execute_result"
    }
   ],
   "source": [
    "df.dtypes"
   ]
  },
  {
   "cell_type": "code",
   "execution_count": 5,
   "id": "507e4701-a767-4005-8bda-4d42b4591078",
   "metadata": {},
   "outputs": [
    {
     "data": {
      "text/plain": [
       "Index(['age', 'sex', 'bmi', 'children', 'smoker', 'region', 'expenses'], dtype='object')"
      ]
     },
     "execution_count": 5,
     "metadata": {},
     "output_type": "execute_result"
    }
   ],
   "source": [
    "df.columns"
   ]
  },
  {
   "cell_type": "markdown",
   "id": "504e3bd3-caa1-487d-ad3d-a3a34c550839",
   "metadata": {},
   "source": [
    "**Checking unique values**"
   ]
  },
  {
   "cell_type": "code",
   "execution_count": 6,
   "id": "6f2f5771-14e8-4466-bb73-ee156d8346b2",
   "metadata": {},
   "outputs": [
    {
     "name": "stdout",
     "output_type": "stream",
     "text": [
      "age :\n",
      "[19 18 28 33 32 31 46 37 60 25 62 23 56 27 52 30 34 59 63 55 22 26 35 24\n",
      " 41 38 36 21 48 40 58 53 43 64 20 61 44 57 29 45 54 49 47 51 42 50 39]\n",
      "\n",
      "\n",
      "sex :\n",
      "['female' 'male']\n",
      "\n",
      "\n",
      "bmi :\n",
      "[27.9 33.8 33.  22.7 28.9 25.7 33.4 27.7 29.8 25.8 26.2 26.3 34.4 39.8\n",
      " 42.1 24.6 30.8 23.8 40.3 35.3 36.  32.4 34.1 31.9 28.  23.1 32.8 17.4\n",
      " 36.3 35.6 28.6 28.3 36.4 20.4 20.8 36.7 39.9 26.6 36.6 21.8 37.1 37.3\n",
      " 38.7 34.8 24.5 35.2 33.6 28.7 37.  31.8 31.7 22.9 27.4 33.7 24.7 25.9\n",
      " 22.4 39.1 36.2 24.  24.8 28.5 28.1 32.  34.  29.6 35.5 26.9 38.3 37.6\n",
      " 41.2 31.2 27.2 27.  39.5 31.3 20.  19.3 31.6 25.5 30.1 29.9 27.5 28.4\n",
      " 30.9 35.1 29.7 35.7 32.2 49.1 23.4 29.  31.4 33.9 28.8 37.4 17.8 34.7\n",
      " 26.5 22.  35.9 25.6 25.2 32.5 25.3 38.8 30.5 37.7 24.1 24.4 27.8 36.9\n",
      " 39.6 28.2 33.2 18.9 41.5 30.3 16.  33.3 29.2 26.4 30.7 41.9 32.1 30.6\n",
      " 18.1 39.3 36.1 22.3 26.7 23.2 38.1 22.2 38.4 29.1 22.1 26.8 30.  20.9\n",
      " 17.3 34.2 25.4 40.2 24.3 42.4 19.8 30.2 29.4 27.6 20.6 21.6 40.6 48.1\n",
      " 36.8 45.5 23.  22.6 37.5 38.  34.9 33.1 40.9 36.5 34.5 32.3 29.3 35.8\n",
      " 43.9 21.7 21.9 25.  30.4 21.1 32.9 24.9 31.5 18.  43.3 19.9 31.  38.2\n",
      " 47.5 23.6 17.5 20.2 17.2 23.9 39.2 27.3 16.8 46.8 29.5 32.7 33.5 43.\n",
      " 38.6 46.5 25.1 32.6 41.3 34.3 31.1 21.5 43.4 26.  44.2 26.1 39.4 40.5\n",
      " 38.9 47.4 35.4 46.7 46.2 21.4 44.8 43.1 23.5 45.4 23.7 20.7 19.6 37.8\n",
      " 19.  21.3 42.5 39.  39.7 35.  42.7 40.8 20.3 18.5 41.7 44.7 40.7 27.1\n",
      " 37.9 22.8 34.6 19.5 41.1 22.5 41.8 42.2 41.4 42.9 21.  24.2 17.7 50.4\n",
      " 47.6 43.7 44.  20.1 37.2 46.1 18.3 40.  20.5 23.3 19.2 45.3 18.7 52.6\n",
      " 47.7 19.1 42.8 18.6 45.9 44.9 40.4 17.9 53.1]\n",
      "\n",
      "\n",
      "children :\n",
      "[0 1 3 2 5 4]\n",
      "\n",
      "\n",
      "smoker :\n",
      "['yes' 'no']\n",
      "\n",
      "\n",
      "region :\n",
      "['southwest' 'southeast' 'northwest' 'northeast']\n",
      "\n",
      "\n",
      "expenses :\n",
      "[16884.92  1725.55  4449.46 ...  1629.83  2007.95 29141.36]\n",
      "\n",
      "\n"
     ]
    }
   ],
   "source": [
    "for col in df.columns.tolist():\n",
    "  print(col, ':')\n",
    "  print(df[col].unique())\n",
    "  print('\\n')"
   ]
  },
  {
   "cell_type": "code",
   "execution_count": 7,
   "id": "5e8efd61-2708-48c5-a481-bb7582e6fab5",
   "metadata": {},
   "outputs": [],
   "source": [
    "continuous = ['age', 'bmi', 'expenses']\n",
    "\n",
    "discrete_categorical = ['sex', 'smoker', 'region']\n",
    "\n",
    "discrete_count = ['children']\n",
    "\n",
    "time_series = []"
   ]
  },
  {
   "cell_type": "markdown",
   "id": "5911c0b0-36c8-4243-80d9-a443dc97787d",
   "metadata": {},
   "source": [
    "**Descriptive Statistics**"
   ]
  },
  {
   "cell_type": "code",
   "execution_count": 8,
   "id": "24a1fe58-3d25-43b0-927a-40962401c84a",
   "metadata": {},
   "outputs": [
    {
     "data": {
      "text/html": [
       "<div>\n",
       "<style scoped>\n",
       "    .dataframe tbody tr th:only-of-type {\n",
       "        vertical-align: middle;\n",
       "    }\n",
       "\n",
       "    .dataframe tbody tr th {\n",
       "        vertical-align: top;\n",
       "    }\n",
       "\n",
       "    .dataframe thead th {\n",
       "        text-align: right;\n",
       "    }\n",
       "</style>\n",
       "<table border=\"1\" class=\"dataframe\">\n",
       "  <thead>\n",
       "    <tr style=\"text-align: right;\">\n",
       "      <th></th>\n",
       "      <th>age</th>\n",
       "      <th>bmi</th>\n",
       "      <th>expenses</th>\n",
       "    </tr>\n",
       "  </thead>\n",
       "  <tbody>\n",
       "    <tr>\n",
       "      <th>count</th>\n",
       "      <td>1338.000000</td>\n",
       "      <td>1338.000000</td>\n",
       "      <td>1338.000000</td>\n",
       "    </tr>\n",
       "    <tr>\n",
       "      <th>mean</th>\n",
       "      <td>39.207025</td>\n",
       "      <td>30.665471</td>\n",
       "      <td>13270.422414</td>\n",
       "    </tr>\n",
       "    <tr>\n",
       "      <th>std</th>\n",
       "      <td>14.049960</td>\n",
       "      <td>6.098382</td>\n",
       "      <td>12110.011240</td>\n",
       "    </tr>\n",
       "    <tr>\n",
       "      <th>min</th>\n",
       "      <td>18.000000</td>\n",
       "      <td>16.000000</td>\n",
       "      <td>1121.870000</td>\n",
       "    </tr>\n",
       "    <tr>\n",
       "      <th>25%</th>\n",
       "      <td>27.000000</td>\n",
       "      <td>26.300000</td>\n",
       "      <td>4740.287500</td>\n",
       "    </tr>\n",
       "    <tr>\n",
       "      <th>50%</th>\n",
       "      <td>39.000000</td>\n",
       "      <td>30.400000</td>\n",
       "      <td>9382.030000</td>\n",
       "    </tr>\n",
       "    <tr>\n",
       "      <th>75%</th>\n",
       "      <td>51.000000</td>\n",
       "      <td>34.700000</td>\n",
       "      <td>16639.915000</td>\n",
       "    </tr>\n",
       "    <tr>\n",
       "      <th>max</th>\n",
       "      <td>64.000000</td>\n",
       "      <td>53.100000</td>\n",
       "      <td>63770.430000</td>\n",
       "    </tr>\n",
       "  </tbody>\n",
       "</table>\n",
       "</div>"
      ],
      "text/plain": [
       "               age          bmi      expenses\n",
       "count  1338.000000  1338.000000   1338.000000\n",
       "mean     39.207025    30.665471  13270.422414\n",
       "std      14.049960     6.098382  12110.011240\n",
       "min      18.000000    16.000000   1121.870000\n",
       "25%      27.000000    26.300000   4740.287500\n",
       "50%      39.000000    30.400000   9382.030000\n",
       "75%      51.000000    34.700000  16639.915000\n",
       "max      64.000000    53.100000  63770.430000"
      ]
     },
     "execution_count": 8,
     "metadata": {},
     "output_type": "execute_result"
    }
   ],
   "source": [
    "df[continuous].describe()"
   ]
  },
  {
   "cell_type": "code",
   "execution_count": 9,
   "id": "865c32a9-bb73-4ffd-b15f-2ecdb9748d8b",
   "metadata": {},
   "outputs": [
    {
     "data": {
      "text/html": [
       "<div>\n",
       "<style scoped>\n",
       "    .dataframe tbody tr th:only-of-type {\n",
       "        vertical-align: middle;\n",
       "    }\n",
       "\n",
       "    .dataframe tbody tr th {\n",
       "        vertical-align: top;\n",
       "    }\n",
       "\n",
       "    .dataframe thead th {\n",
       "        text-align: right;\n",
       "    }\n",
       "</style>\n",
       "<table border=\"1\" class=\"dataframe\">\n",
       "  <thead>\n",
       "    <tr style=\"text-align: right;\">\n",
       "      <th></th>\n",
       "      <th>sex</th>\n",
       "      <th>smoker</th>\n",
       "      <th>region</th>\n",
       "    </tr>\n",
       "  </thead>\n",
       "  <tbody>\n",
       "    <tr>\n",
       "      <th>count</th>\n",
       "      <td>1338</td>\n",
       "      <td>1338</td>\n",
       "      <td>1338</td>\n",
       "    </tr>\n",
       "    <tr>\n",
       "      <th>unique</th>\n",
       "      <td>2</td>\n",
       "      <td>2</td>\n",
       "      <td>4</td>\n",
       "    </tr>\n",
       "    <tr>\n",
       "      <th>top</th>\n",
       "      <td>male</td>\n",
       "      <td>no</td>\n",
       "      <td>southeast</td>\n",
       "    </tr>\n",
       "    <tr>\n",
       "      <th>freq</th>\n",
       "      <td>676</td>\n",
       "      <td>1064</td>\n",
       "      <td>364</td>\n",
       "    </tr>\n",
       "  </tbody>\n",
       "</table>\n",
       "</div>"
      ],
      "text/plain": [
       "         sex smoker     region\n",
       "count   1338   1338       1338\n",
       "unique     2      2          4\n",
       "top     male     no  southeast\n",
       "freq     676   1064        364"
      ]
     },
     "execution_count": 9,
     "metadata": {},
     "output_type": "execute_result"
    }
   ],
   "source": [
    "df[discrete_categorical].describe()"
   ]
  },
  {
   "cell_type": "code",
   "execution_count": 10,
   "id": "6ac37be8-7f5e-43e2-a870-42a6d337618f",
   "metadata": {},
   "outputs": [
    {
     "data": {
      "text/plain": [
       "age         0.055673\n",
       "bmi         0.284593\n",
       "expenses    1.515880\n",
       "dtype: float64"
      ]
     },
     "execution_count": 10,
     "metadata": {},
     "output_type": "execute_result"
    }
   ],
   "source": [
    "df[continuous].skew()"
   ]
  },
  {
   "cell_type": "code",
   "execution_count": 11,
   "id": "8dea31ac-d96e-44f9-a7f9-91fbb05de7a5",
   "metadata": {},
   "outputs": [
    {
     "data": {
      "text/html": [
       "<div>\n",
       "<style scoped>\n",
       "    .dataframe tbody tr th:only-of-type {\n",
       "        vertical-align: middle;\n",
       "    }\n",
       "\n",
       "    .dataframe tbody tr th {\n",
       "        vertical-align: top;\n",
       "    }\n",
       "\n",
       "    .dataframe thead th {\n",
       "        text-align: right;\n",
       "    }\n",
       "</style>\n",
       "<table border=\"1\" class=\"dataframe\">\n",
       "  <thead>\n",
       "    <tr style=\"text-align: right;\">\n",
       "      <th></th>\n",
       "      <th>age</th>\n",
       "      <th>bmi</th>\n",
       "      <th>expenses</th>\n",
       "    </tr>\n",
       "  </thead>\n",
       "  <tbody>\n",
       "    <tr>\n",
       "      <th>age</th>\n",
       "      <td>1.000000</td>\n",
       "      <td>0.109341</td>\n",
       "      <td>0.299008</td>\n",
       "    </tr>\n",
       "    <tr>\n",
       "      <th>bmi</th>\n",
       "      <td>0.109341</td>\n",
       "      <td>1.000000</td>\n",
       "      <td>0.198576</td>\n",
       "    </tr>\n",
       "    <tr>\n",
       "      <th>expenses</th>\n",
       "      <td>0.299008</td>\n",
       "      <td>0.198576</td>\n",
       "      <td>1.000000</td>\n",
       "    </tr>\n",
       "  </tbody>\n",
       "</table>\n",
       "</div>"
      ],
      "text/plain": [
       "               age       bmi  expenses\n",
       "age       1.000000  0.109341  0.299008\n",
       "bmi       0.109341  1.000000  0.198576\n",
       "expenses  0.299008  0.198576  1.000000"
      ]
     },
     "execution_count": 11,
     "metadata": {},
     "output_type": "execute_result"
    }
   ],
   "source": [
    "df[continuous].corr()"
   ]
  },
  {
   "cell_type": "code",
   "execution_count": 12,
   "id": "e9340620-16d1-46d2-8fa9-a4fa5fa45325",
   "metadata": {},
   "outputs": [
    {
     "data": {
      "text/plain": [
       "age         0\n",
       "sex         0\n",
       "bmi         0\n",
       "children    0\n",
       "smoker      0\n",
       "region      0\n",
       "expenses    0\n",
       "dtype: int64"
      ]
     },
     "execution_count": 12,
     "metadata": {},
     "output_type": "execute_result"
    }
   ],
   "source": [
    "df.isnull().sum()"
   ]
  },
  {
   "cell_type": "code",
   "execution_count": 13,
   "id": "15714453-cf24-4a74-9bff-4addaa587654",
   "metadata": {},
   "outputs": [
    {
     "data": {
      "text/plain": [
       "np.int64(1)"
      ]
     },
     "execution_count": 13,
     "metadata": {},
     "output_type": "execute_result"
    }
   ],
   "source": [
    "df.duplicated().sum()"
   ]
  },
  {
   "cell_type": "markdown",
   "id": "ea0e3b84-b4bf-45eb-a2e6-c4e9cfbbebda",
   "metadata": {},
   "source": [
    "**Plots**"
   ]
  },
  {
   "cell_type": "code",
   "execution_count": 14,
   "id": "6dc946f9-af62-41a2-ab96-71cc2c64df2c",
   "metadata": {},
   "outputs": [
    {
     "data": {
      "image/png": "[encoded data removed]",
      "text/plain": [
       "<Figure size 2000x700 with 3 Axes>"
      ]
     },
     "metadata": {},
     "output_type": "display_data"
    }
   ],
   "source": [
    "i = 1\n",
    "plt.figure(figsize = (20, 7))\n",
    "for col in continuous:\n",
    "  plt.subplot(1, 3, i)\n",
    "  sns.histplot(df[col], kde = True)\n",
    "  i += 1\n",
    "plt.show()"
   ]
  },
  {
   "cell_type": "code",
   "execution_count": 15,
   "id": "3b75b0a3-145b-48ce-a81c-551a90334253",
   "metadata": {},
   "outputs": [
    {
     "data": {
      "image/png": "[encoded data removed]",
      "text/plain": [
       "<Figure size 2000x700 with 3 Axes>"
      ]
     },
     "metadata": {},
     "output_type": "display_data"
    }
   ],
   "source": [
    "i = 1\n",
    "plt.figure(figsize = (20, 7))\n",
    "for col in continuous: \n",
    "  plt.subplot(1, 3, i)\n",
    "  sns.boxplot(df[col])\n",
    "  i += 1\n",
    "plt.show()"
   ]
  },
  {
   "cell_type": "markdown",
   "id": "7fd1fd8f-00ba-40e8-b3a4-ca2279d7fe3a",
   "metadata": {},
   "source": [
    "**Outliers are present**"
   ]
  },
  {
   "cell_type": "code",
   "execution_count": 16,
   "id": "2da6d5e8-3369-47a0-891a-cb4d692f344a",
   "metadata": {},
   "outputs": [
    {
     "data": {
      "text/plain": [
       "<Axes: >"
      ]
     },
     "execution_count": 16,
     "metadata": {},
     "output_type": "execute_result"
    },
    {
     "data": {
      "image/png": "[encoded data removed]",
      "text/plain": [
       "<Figure size 640x480 with 2 Axes>"
      ]
     },
     "metadata": {},
     "output_type": "display_data"
    }
   ],
   "source": [
    "sns.heatmap(df[continuous].corr(), annot = True)"
   ]
  },
  {
   "cell_type": "markdown",
   "id": "36132ebe-8bfb-4ad8-9dfe-c738c3b5d700",
   "metadata": {},
   "source": [
    "**1. I/P vs O/P columns should have greater correlation (|r| > 0.2) --> No columns have less correlation --> No need to drop any columns**\n",
    "\n",
    "**2. I/P vs I/P columns should have less correlation (|r| < 0.5) --> No columns have greater correlation --> No need to drop any columns**"
   ]
  },
  {
   "cell_type": "markdown",
   "id": "ecd10d3e-8ec3-42fa-af23-e1bae312f225",
   "metadata": {},
   "source": [
    "# **Data Preprocessing**"
   ]
  },
  {
   "cell_type": "markdown",
   "id": "58c14506-3189-47bd-b33c-360ea43cffe0",
   "metadata": {},
   "source": [
    "# **1. Data Cleaning**"
   ]
  },
  {
   "cell_type": "markdown",
   "id": "77b01779-a3ed-44df-acc4-2469950f221b",
   "metadata": {},
   "source": [
    "**1. Treating wrong data**"
   ]
  },
  {
   "cell_type": "markdown",
   "id": "e86bcf94-a872-4314-bbb0-d743fef6d79a",
   "metadata": {},
   "source": [
    "No wrong data present"
   ]
  },
  {
   "cell_type": "markdown",
   "id": "33d709fe-3326-401f-9809-a7e92853578c",
   "metadata": {},
   "source": [
    "**2. Treating missing values**"
   ]
  },
  {
   "cell_type": "code",
   "execution_count": 17,
   "id": "66f9c12c-6a13-4b86-9858-5da77fca03f2",
   "metadata": {},
   "outputs": [
    {
     "data": {
      "text/plain": [
       "age         0.0\n",
       "sex         0.0\n",
       "bmi         0.0\n",
       "children    0.0\n",
       "smoker      0.0\n",
       "region      0.0\n",
       "expenses    0.0\n",
       "dtype: float64"
      ]
     },
     "execution_count": 17,
     "metadata": {},
     "output_type": "execute_result"
    }
   ],
   "source": [
    "df.isnull().sum() / len(df) * 100"
   ]
  },
  {
   "cell_type": "markdown",
   "id": "072c52eb-7693-41f1-b90f-b9dabcd816f9",
   "metadata": {},
   "source": [
    "No missing values"
   ]
  },
  {
   "cell_type": "markdown",
   "id": "6eef1adb-d001-4191-b9df-e9b69cb30f7b",
   "metadata": {},
   "source": [
    "**3. Treating wrong datatypes**"
   ]
  },
  {
   "cell_type": "markdown",
   "id": "b191ec1f-5c38-4cc4-8d2c-e7e96af452ef",
   "metadata": {},
   "source": [
    "No wrong datatype"
   ]
  },
  {
   "cell_type": "markdown",
   "id": "cd9f6bdf-c93c-4e2c-a7bb-26a063db3e94",
   "metadata": {},
   "source": [
    "**4. Treating duplicates**"
   ]
  },
  {
   "cell_type": "code",
   "execution_count": 18,
   "id": "7a95d6e1-04e8-4044-a3aa-0497b18cbb78",
   "metadata": {},
   "outputs": [
    {
     "data": {
      "text/plain": [
       "np.int64(1)"
      ]
     },
     "execution_count": 18,
     "metadata": {},
     "output_type": "execute_result"
    }
   ],
   "source": [
    "df.duplicated().sum()"
   ]
  },
  {
   "cell_type": "code",
   "execution_count": 19,
   "id": "a37647a6-f7db-43e4-af77-dfee370d3eda",
   "metadata": {},
   "outputs": [],
   "source": [
    "df = df.drop_duplicates()"
   ]
  },
  {
   "cell_type": "markdown",
   "id": "c9d39f48-3ed9-47d3-93d9-d83002fcae18",
   "metadata": {},
   "source": [
    "**5. Treating outliers**"
   ]
  },
  {
   "cell_type": "markdown",
   "id": "eff3096c-8c1c-4c93-b83a-372e3c30d314",
   "metadata": {},
   "source": [
    "Retaining outliers"
   ]
  },
  {
   "cell_type": "markdown",
   "id": "80414de6-ba61-4deb-a881-3c9dd88fe94a",
   "metadata": {},
   "source": [
    "**6. Dimension Reduction**"
   ]
  },
  {
   "cell_type": "markdown",
   "id": "a1f17433-5d0d-4ac4-84db-3e2e80aaa672",
   "metadata": {},
   "source": [
    "No need to drop any columns"
   ]
  },
  {
   "cell_type": "markdown",
   "id": "722ca258-c7ce-46d5-beae-21b6b0616d25",
   "metadata": {},
   "source": [
    "# **2. Data Wrangling**"
   ]
  },
  {
   "cell_type": "markdown",
   "id": "bec8ae84-8646-4b8e-b282-bd780cee73bc",
   "metadata": {},
   "source": [
    "**1. Data Transformation**"
   ]
  },
  {
   "cell_type": "code",
   "execution_count": 20,
   "id": "ec7512dc-31c0-46b5-89b3-d9cf24cf7c22",
   "metadata": {},
   "outputs": [
    {
     "data": {
      "text/plain": [
       "age         0.054781\n",
       "bmi         0.284463\n",
       "expenses    1.515391\n",
       "dtype: float64"
      ]
     },
     "execution_count": 20,
     "metadata": {},
     "output_type": "execute_result"
    }
   ],
   "source": [
    "df[continuous].skew()"
   ]
  },
  {
   "cell_type": "markdown",
   "id": "63b57d16-d2b9-40d2-b503-7e2d8051276a",
   "metadata": {},
   "source": [
    "**2. Encoding**"
   ]
  },
  {
   "cell_type": "code",
   "execution_count": 21,
   "id": "0d9e1fc4-d7b9-4469-96ec-e42dec56934c",
   "metadata": {},
   "outputs": [
    {
     "data": {
      "text/html": [
       "<div>\n",
       "<style scoped>\n",
       "    .dataframe tbody tr th:only-of-type {\n",
       "        vertical-align: middle;\n",
       "    }\n",
       "\n",
       "    .dataframe tbody tr th {\n",
       "        vertical-align: top;\n",
       "    }\n",
       "\n",
       "    .dataframe thead th {\n",
       "        text-align: right;\n",
       "    }\n",
       "</style>\n",
       "<table border=\"1\" class=\"dataframe\">\n",
       "  <thead>\n",
       "    <tr style=\"text-align: right;\">\n",
       "      <th></th>\n",
       "      <th>age</th>\n",
       "      <th>sex</th>\n",
       "      <th>bmi</th>\n",
       "      <th>children</th>\n",
       "      <th>smoker</th>\n",
       "      <th>region</th>\n",
       "      <th>expenses</th>\n",
       "    </tr>\n",
       "  </thead>\n",
       "  <tbody>\n",
       "    <tr>\n",
       "      <th>0</th>\n",
       "      <td>19</td>\n",
       "      <td>female</td>\n",
       "      <td>27.9</td>\n",
       "      <td>0</td>\n",
       "      <td>yes</td>\n",
       "      <td>southwest</td>\n",
       "      <td>16884.92</td>\n",
       "    </tr>\n",
       "    <tr>\n",
       "      <th>1</th>\n",
       "      <td>18</td>\n",
       "      <td>male</td>\n",
       "      <td>33.8</td>\n",
       "      <td>1</td>\n",
       "      <td>no</td>\n",
       "      <td>southeast</td>\n",
       "      <td>1725.55</td>\n",
       "    </tr>\n",
       "    <tr>\n",
       "      <th>2</th>\n",
       "      <td>28</td>\n",
       "      <td>male</td>\n",
       "      <td>33.0</td>\n",
       "      <td>3</td>\n",
       "      <td>no</td>\n",
       "      <td>southeast</td>\n",
       "      <td>4449.46</td>\n",
       "    </tr>\n",
       "    <tr>\n",
       "      <th>3</th>\n",
       "      <td>33</td>\n",
       "      <td>male</td>\n",
       "      <td>22.7</td>\n",
       "      <td>0</td>\n",
       "      <td>no</td>\n",
       "      <td>northwest</td>\n",
       "      <td>21984.47</td>\n",
       "    </tr>\n",
       "    <tr>\n",
       "      <th>4</th>\n",
       "      <td>32</td>\n",
       "      <td>male</td>\n",
       "      <td>28.9</td>\n",
       "      <td>0</td>\n",
       "      <td>no</td>\n",
       "      <td>northwest</td>\n",
       "      <td>3866.86</td>\n",
       "    </tr>\n",
       "    <tr>\n",
       "      <th>...</th>\n",
       "      <td>...</td>\n",
       "      <td>...</td>\n",
       "      <td>...</td>\n",
       "      <td>...</td>\n",
       "      <td>...</td>\n",
       "      <td>...</td>\n",
       "      <td>...</td>\n",
       "    </tr>\n",
       "    <tr>\n",
       "      <th>1333</th>\n",
       "      <td>50</td>\n",
       "      <td>male</td>\n",
       "      <td>31.0</td>\n",
       "      <td>3</td>\n",
       "      <td>no</td>\n",
       "      <td>northwest</td>\n",
       "      <td>10600.55</td>\n",
       "    </tr>\n",
       "    <tr>\n",
       "      <th>1334</th>\n",
       "      <td>18</td>\n",
       "      <td>female</td>\n",
       "      <td>31.9</td>\n",
       "      <td>0</td>\n",
       "      <td>no</td>\n",
       "      <td>northeast</td>\n",
       "      <td>2205.98</td>\n",
       "    </tr>\n",
       "    <tr>\n",
       "      <th>1335</th>\n",
       "      <td>18</td>\n",
       "      <td>female</td>\n",
       "      <td>36.9</td>\n",
       "      <td>0</td>\n",
       "      <td>no</td>\n",
       "      <td>southeast</td>\n",
       "      <td>1629.83</td>\n",
       "    </tr>\n",
       "    <tr>\n",
       "      <th>1336</th>\n",
       "      <td>21</td>\n",
       "      <td>female</td>\n",
       "      <td>25.8</td>\n",
       "      <td>0</td>\n",
       "      <td>no</td>\n",
       "      <td>southwest</td>\n",
       "      <td>2007.95</td>\n",
       "    </tr>\n",
       "    <tr>\n",
       "      <th>1337</th>\n",
       "      <td>61</td>\n",
       "      <td>female</td>\n",
       "      <td>29.1</td>\n",
       "      <td>0</td>\n",
       "      <td>yes</td>\n",
       "      <td>northwest</td>\n",
       "      <td>29141.36</td>\n",
       "    </tr>\n",
       "  </tbody>\n",
       "</table>\n",
       "<p>1337 rows × 7 columns</p>\n",
       "</div>"
      ],
      "text/plain": [
       "      age     sex   bmi  children smoker     region  expenses\n",
       "0      19  female  27.9         0    yes  southwest  16884.92\n",
       "1      18    male  33.8         1     no  southeast   1725.55\n",
       "2      28    male  33.0         3     no  southeast   4449.46\n",
       "3      33    male  22.7         0     no  northwest  21984.47\n",
       "4      32    male  28.9         0     no  northwest   3866.86\n",
       "...   ...     ...   ...       ...    ...        ...       ...\n",
       "1333   50    male  31.0         3     no  northwest  10600.55\n",
       "1334   18  female  31.9         0     no  northeast   2205.98\n",
       "1335   18  female  36.9         0     no  southeast   1629.83\n",
       "1336   21  female  25.8         0     no  southwest   2007.95\n",
       "1337   61  female  29.1         0    yes  northwest  29141.36\n",
       "\n",
       "[1337 rows x 7 columns]"
      ]
     },
     "execution_count": 21,
     "metadata": {},
     "output_type": "execute_result"
    }
   ],
   "source": [
    "df"
   ]
  },
  {
   "cell_type": "code",
   "execution_count": 22,
   "id": "29949e53-6543-4d08-8182-f1c32c7fee7a",
   "metadata": {},
   "outputs": [],
   "source": [
    "nominal = ['sex', 'smoker', 'region']\n",
    "ordinal = []"
   ]
  },
  {
   "cell_type": "code",
   "execution_count": 23,
   "id": "6cf51d2f-684f-46fd-847a-a0a98936f94d",
   "metadata": {},
   "outputs": [
    {
     "data": {
      "text/html": [
       "<div>\n",
       "<style scoped>\n",
       "    .dataframe tbody tr th:only-of-type {\n",
       "        vertical-align: middle;\n",
       "    }\n",
       "\n",
       "    .dataframe tbody tr th {\n",
       "        vertical-align: top;\n",
       "    }\n",
       "\n",
       "    .dataframe thead th {\n",
       "        text-align: right;\n",
       "    }\n",
       "</style>\n",
       "<table border=\"1\" class=\"dataframe\">\n",
       "  <thead>\n",
       "    <tr style=\"text-align: right;\">\n",
       "      <th></th>\n",
       "      <th>age</th>\n",
       "      <th>bmi</th>\n",
       "      <th>children</th>\n",
       "      <th>expenses</th>\n",
       "      <th>sex_female</th>\n",
       "      <th>sex_male</th>\n",
       "      <th>smoker_no</th>\n",
       "      <th>smoker_yes</th>\n",
       "      <th>region_northeast</th>\n",
       "      <th>region_northwest</th>\n",
       "      <th>region_southeast</th>\n",
       "      <th>region_southwest</th>\n",
       "    </tr>\n",
       "  </thead>\n",
       "  <tbody>\n",
       "    <tr>\n",
       "      <th>0</th>\n",
       "      <td>19</td>\n",
       "      <td>27.9</td>\n",
       "      <td>0</td>\n",
       "      <td>16884.92</td>\n",
       "      <td>True</td>\n",
       "      <td>False</td>\n",
       "      <td>False</td>\n",
       "      <td>True</td>\n",
       "      <td>False</td>\n",
       "      <td>False</td>\n",
       "      <td>False</td>\n",
       "      <td>True</td>\n",
       "    </tr>\n",
       "    <tr>\n",
       "      <th>1</th>\n",
       "      <td>18</td>\n",
       "      <td>33.8</td>\n",
       "      <td>1</td>\n",
       "      <td>1725.55</td>\n",
       "      <td>False</td>\n",
       "      <td>True</td>\n",
       "      <td>True</td>\n",
       "      <td>False</td>\n",
       "      <td>False</td>\n",
       "      <td>False</td>\n",
       "      <td>True</td>\n",
       "      <td>False</td>\n",
       "    </tr>\n",
       "    <tr>\n",
       "      <th>2</th>\n",
       "      <td>28</td>\n",
       "      <td>33.0</td>\n",
       "      <td>3</td>\n",
       "      <td>4449.46</td>\n",
       "      <td>False</td>\n",
       "      <td>True</td>\n",
       "      <td>True</td>\n",
       "      <td>False</td>\n",
       "      <td>False</td>\n",
       "      <td>False</td>\n",
       "      <td>True</td>\n",
       "      <td>False</td>\n",
       "    </tr>\n",
       "    <tr>\n",
       "      <th>3</th>\n",
       "      <td>33</td>\n",
       "      <td>22.7</td>\n",
       "      <td>0</td>\n",
       "      <td>21984.47</td>\n",
       "      <td>False</td>\n",
       "      <td>True</td>\n",
       "      <td>True</td>\n",
       "      <td>False</td>\n",
       "      <td>False</td>\n",
       "      <td>True</td>\n",
       "      <td>False</td>\n",
       "      <td>False</td>\n",
       "    </tr>\n",
       "    <tr>\n",
       "      <th>4</th>\n",
       "      <td>32</td>\n",
       "      <td>28.9</td>\n",
       "      <td>0</td>\n",
       "      <td>3866.86</td>\n",
       "      <td>False</td>\n",
       "      <td>True</td>\n",
       "      <td>True</td>\n",
       "      <td>False</td>\n",
       "      <td>False</td>\n",
       "      <td>True</td>\n",
       "      <td>False</td>\n",
       "      <td>False</td>\n",
       "    </tr>\n",
       "    <tr>\n",
       "      <th>...</th>\n",
       "      <td>...</td>\n",
       "      <td>...</td>\n",
       "      <td>...</td>\n",
       "      <td>...</td>\n",
       "      <td>...</td>\n",
       "      <td>...</td>\n",
       "      <td>...</td>\n",
       "      <td>...</td>\n",
       "      <td>...</td>\n",
       "      <td>...</td>\n",
       "      <td>...</td>\n",
       "      <td>...</td>\n",
       "    </tr>\n",
       "    <tr>\n",
       "      <th>1333</th>\n",
       "      <td>50</td>\n",
       "      <td>31.0</td>\n",
       "      <td>3</td>\n",
       "      <td>10600.55</td>\n",
       "      <td>False</td>\n",
       "      <td>True</td>\n",
       "      <td>True</td>\n",
       "      <td>False</td>\n",
       "      <td>False</td>\n",
       "      <td>True</td>\n",
       "      <td>False</td>\n",
       "      <td>False</td>\n",
       "    </tr>\n",
       "    <tr>\n",
       "      <th>1334</th>\n",
       "      <td>18</td>\n",
       "      <td>31.9</td>\n",
       "      <td>0</td>\n",
       "      <td>2205.98</td>\n",
       "      <td>True</td>\n",
       "      <td>False</td>\n",
       "      <td>True</td>\n",
       "      <td>False</td>\n",
       "      <td>True</td>\n",
       "      <td>False</td>\n",
       "      <td>False</td>\n",
       "      <td>False</td>\n",
       "    </tr>\n",
       "    <tr>\n",
       "      <th>1335</th>\n",
       "      <td>18</td>\n",
       "      <td>36.9</td>\n",
       "      <td>0</td>\n",
       "      <td>1629.83</td>\n",
       "      <td>True</td>\n",
       "      <td>False</td>\n",
       "      <td>True</td>\n",
       "      <td>False</td>\n",
       "      <td>False</td>\n",
       "      <td>False</td>\n",
       "      <td>True</td>\n",
       "      <td>False</td>\n",
       "    </tr>\n",
       "    <tr>\n",
       "      <th>1336</th>\n",
       "      <td>21</td>\n",
       "      <td>25.8</td>\n",
       "      <td>0</td>\n",
       "      <td>2007.95</td>\n",
       "      <td>True</td>\n",
       "      <td>False</td>\n",
       "      <td>True</td>\n",
       "      <td>False</td>\n",
       "      <td>False</td>\n",
       "      <td>False</td>\n",
       "      <td>False</td>\n",
       "      <td>True</td>\n",
       "    </tr>\n",
       "    <tr>\n",
       "      <th>1337</th>\n",
       "      <td>61</td>\n",
       "      <td>29.1</td>\n",
       "      <td>0</td>\n",
       "      <td>29141.36</td>\n",
       "      <td>True</td>\n",
       "      <td>False</td>\n",
       "      <td>False</td>\n",
       "      <td>True</td>\n",
       "      <td>False</td>\n",
       "      <td>True</td>\n",
       "      <td>False</td>\n",
       "      <td>False</td>\n",
       "    </tr>\n",
       "  </tbody>\n",
       "</table>\n",
       "<p>1337 rows × 12 columns</p>\n",
       "</div>"
      ],
      "text/plain": [
       "      age   bmi  children  expenses  sex_female  sex_male  smoker_no  \\\n",
       "0      19  27.9         0  16884.92        True     False      False   \n",
       "1      18  33.8         1   1725.55       False      True       True   \n",
       "2      28  33.0         3   4449.46       False      True       True   \n",
       "3      33  22.7         0  21984.47       False      True       True   \n",
       "4      32  28.9         0   3866.86       False      True       True   \n",
       "...   ...   ...       ...       ...         ...       ...        ...   \n",
       "1333   50  31.0         3  10600.55       False      True       True   \n",
       "1334   18  31.9         0   2205.98        True     False       True   \n",
       "1335   18  36.9         0   1629.83        True     False       True   \n",
       "1336   21  25.8         0   2007.95        True     False       True   \n",
       "1337   61  29.1         0  29141.36        True     False      False   \n",
       "\n",
       "      smoker_yes  region_northeast  region_northwest  region_southeast  \\\n",
       "0           True             False             False             False   \n",
       "1          False             False             False              True   \n",
       "2          False             False             False              True   \n",
       "3          False             False              True             False   \n",
       "4          False             False              True             False   \n",
       "...          ...               ...               ...               ...   \n",
       "1333       False             False              True             False   \n",
       "1334       False              True             False             False   \n",
       "1335       False             False             False              True   \n",
       "1336       False             False             False             False   \n",
       "1337        True             False              True             False   \n",
       "\n",
       "      region_southwest  \n",
       "0                 True  \n",
       "1                False  \n",
       "2                False  \n",
       "3                False  \n",
       "4                False  \n",
       "...                ...  \n",
       "1333             False  \n",
       "1334             False  \n",
       "1335             False  \n",
       "1336              True  \n",
       "1337             False  \n",
       "\n",
       "[1337 rows x 12 columns]"
      ]
     },
     "execution_count": 23,
     "metadata": {},
     "output_type": "execute_result"
    }
   ],
   "source": [
    "df = pd.get_dummies(df)\n",
    "df"
   ]
  },
  {
   "cell_type": "markdown",
   "id": "8fe0af31-f6b1-4ced-aaa2-4ff5829dd34a",
   "metadata": {},
   "source": [
    "**3. Feature Scaling**"
   ]
  },
  {
   "cell_type": "markdown",
   "id": "135aea96-6b3d-4693-a76a-1bc78b5f13e2",
   "metadata": {},
   "source": [
    "No need of scaling in regression projects"
   ]
  },
  {
   "cell_type": "markdown",
   "id": "b487dcaf-e585-407c-865c-748a855b101c",
   "metadata": {},
   "source": [
    "**Finding out if discrete I/P variables are significant or not based on AnoVa Test:**"
   ]
  },
  {
   "cell_type": "code",
   "execution_count": 24,
   "id": "e1d95741-9eeb-457d-8de7-4dcef25905f3",
   "metadata": {},
   "outputs": [
    {
     "data": {
      "text/plain": [
       "Index(['age', 'bmi', 'children', 'expenses', 'sex_female', 'sex_male',\n",
       "       'smoker_no', 'smoker_yes', 'region_northeast', 'region_northwest',\n",
       "       'region_southeast', 'region_southwest'],\n",
       "      dtype='object')"
      ]
     },
     "execution_count": 24,
     "metadata": {},
     "output_type": "execute_result"
    }
   ],
   "source": [
    "df.columns"
   ]
  },
  {
   "cell_type": "code",
   "execution_count": 25,
   "id": "f72e92ed-1fa3-4722-99d5-ac73fd0e1bba",
   "metadata": {},
   "outputs": [
    {
     "name": "stdout",
     "output_type": "stream",
     "text": [
      "children :  1.4018663443507838e-275\n",
      "\n",
      "\n",
      "sex_female :  1.3396084517650986e-275\n",
      "\n",
      "\n",
      "sex_male :  1.3405939213326048e-275\n",
      "\n",
      "\n",
      "smoker_no :  1.3703419865450153e-275\n",
      "\n",
      "\n",
      "smoker_yes :  1.3105266229303377e-275\n",
      "\n",
      "\n",
      "region_northeast :  1.3142386025923336e-275\n",
      "\n",
      "\n",
      "region_northwest :  1.3142386025923336e-275\n",
      "\n",
      "\n",
      "region_southeast :  1.3172157439675168e-275\n",
      "\n",
      "\n",
      "region_southwest :  1.3143129491743292e-275\n",
      "\n",
      "\n"
     ]
    }
   ],
   "source": [
    "from scipy.stats import f_oneway\n",
    "\n",
    "for col in ['children', 'sex_female', 'sex_male',\n",
    "       'smoker_no', 'smoker_yes', 'region_northeast', 'region_northwest',\n",
    "       'region_southeast', 'region_southwest']:\n",
    "  print(col, ': ', f_oneway(df[col], df['expenses']).pvalue)\n",
    "  print('\\n')"
   ]
  },
  {
   "cell_type": "markdown",
   "id": "b3ae01c0-74d6-4e66-8371-9c7c4abff9ce",
   "metadata": {},
   "source": [
    "No need to drop any column, as all are significant (i.e. p < 0.05)"
   ]
  },
  {
   "cell_type": "code",
   "execution_count": 26,
   "id": "55ac72cf-136b-4b24-921c-73339e71295d",
   "metadata": {},
   "outputs": [
    {
     "data": {
      "text/plain": [
       "age                   int64\n",
       "bmi                 float64\n",
       "children              int64\n",
       "expenses            float64\n",
       "sex_female             bool\n",
       "sex_male               bool\n",
       "smoker_no              bool\n",
       "smoker_yes             bool\n",
       "region_northeast       bool\n",
       "region_northwest       bool\n",
       "region_southeast       bool\n",
       "region_southwest       bool\n",
       "dtype: object"
      ]
     },
     "execution_count": 26,
     "metadata": {},
     "output_type": "execute_result"
    }
   ],
   "source": [
    "df.dtypes"
   ]
  },
  {
   "cell_type": "code",
   "execution_count": 27,
   "id": "15e0ac41-ec8e-40ea-87b9-e6354c7199d2",
   "metadata": {},
   "outputs": [],
   "source": [
    "for col in ['sex_female', 'sex_male', 'smoker_no', 'smoker_yes', 'region_northeast', 'region_northwest',\n",
    "            'region_southeast', 'region_southwest']:\n",
    "  df[col] = df[col].astype(int)"
   ]
  },
  {
   "cell_type": "code",
   "execution_count": 28,
   "id": "b2211530-a4cb-40ac-98e2-a226b8391ac2",
   "metadata": {},
   "outputs": [],
   "source": [
    "df.to_csv('cleaned_Insurance.csv', index = False)"
   ]
  },
  {
   "cell_type": "markdown",
   "id": "0d07ace0-1438-459e-89e2-cf25e0495cb7",
   "metadata": {},
   "source": [
    "- **Finding best random state value:**"
   ]
  },
  {
   "cell_type": "code",
   "execution_count": 29,
   "id": "742a7973-397d-401f-aa26-bccc51949e64",
   "metadata": {},
   "outputs": [],
   "source": [
    "X = df.drop(columns = {'expenses'})\n",
    "y = df['expenses']"
   ]
  },
  {
   "cell_type": "code",
   "execution_count": 30,
   "id": "3bda1abe-6a2f-47e3-a352-02b79f541341",
   "metadata": {},
   "outputs": [
    {
     "data": {
      "text/plain": [
       "10"
      ]
     },
     "execution_count": 30,
     "metadata": {},
     "output_type": "execute_result"
    }
   ],
   "source": [
    "RMSE_Train = []\n",
    "CV = []\n",
    "\n",
    "for i in range(1, 100):\n",
    "  #Train Test Split\n",
    "  from sklearn.model_selection import train_test_split\n",
    "\n",
    "  X_train, X_test, y_train, y_test = train_test_split(X, y, test_size = 0.2, random_state = i)\n",
    "\n",
    "  #Modelling\n",
    "  from sklearn.linear_model import LinearRegression\n",
    "\n",
    "  model = LinearRegression()\n",
    "  model.fit(X_train, y_train)\n",
    "\n",
    "  #Prediction\n",
    "  ypred_train = model.predict(X_train)\n",
    "\n",
    "  #Evaluation\n",
    "  from sklearn.metrics import mean_squared_error\n",
    "\n",
    "  rmse_train = np.sqrt(mean_squared_error(y_train, ypred_train))\n",
    "\n",
    "  from sklearn.model_selection import cross_val_score\n",
    "\n",
    "  cv = abs(cross_val_score(model, X_train, y_train, cv = 5, scoring = 'neg_root_mean_squared_error').mean())\n",
    "\n",
    "  RMSE_Train.append(rmse_train)\n",
    "  CV.append(cv)\n",
    "\n",
    "data1 = pd.DataFrame({'RMSE_Train' : RMSE_Train, 'CV' : CV})\n",
    "data2 = data1[abs(data1['RMSE_Train'] - data1['CV']) <= 0.05 * data1['RMSE_Train']]\n",
    "data3 = data2[data2['CV'] == data2['CV'].max()]\n",
    "rs = data3.index.tolist()[0]\n",
    "rs"
   ]
  },
  {
   "cell_type": "code",
   "execution_count": null,
   "id": "f82b18e7-bf0e-4304-8a69-e2d7da410e46",
   "metadata": {},
   "outputs": [],
   "source": []
  }
 ],
 "metadata": {
  "kernelspec": {
   "display_name": "Python 3 (ipykernel)",
   "language": "python",
   "name": "python3"
  },
  "language_info": {
   "codemirror_mode": {
    "name": "ipython",
    "version": 3
   },
   "file_extension": ".py",
   "mimetype": "text/x-python",
   "name": "python",
   "nbconvert_exporter": "python",
   "pygments_lexer": "ipython3",
   "version": "3.11.9"
  },
  "widgets": {
   "application/vnd.jupyter.widget-state+json": {
    "state": {},
    "version_major": 2,
    "version_minor": 0
   }
  }
 },
 "nbformat": 4,
 "nbformat_minor": 5
}
